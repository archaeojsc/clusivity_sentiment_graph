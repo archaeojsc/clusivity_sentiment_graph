{
 "metadata": {
  "language_info": {
   "codemirror_mode": {
    "name": "ipython",
    "version": 3
   },
   "file_extension": ".py",
   "mimetype": "text/x-python",
   "name": "python",
   "nbconvert_exporter": "python",
   "pygments_lexer": "ipython3",
   "version": "3.8.5"
  },
  "orig_nbformat": 2,
  "kernelspec": {
   "name": "python3",
   "display_name": "Python 3.8.5 64-bit ('piper_env': venv)"
  },
  "interpreter": {
   "hash": "a7310ae5507b01abd95ea46fd2558c5cb8ed651a13b81d24a3b6cf995e985ef9"
  }
 },
 "nbformat": 4,
 "nbformat_minor": 2,
 "cells": [
  {
   "cell_type": "code",
   "execution_count": 1,
   "metadata": {},
   "outputs": [
    {
     "output_type": "stream",
     "name": "stdout",
     "text": [
      "Requirement already satisfied: nlu in ./piper_env/lib/python3.8/site-packages (3.0.2)\nRequirement already satisfied: pyspark==3.0.1 in ./piper_env/lib/python3.8/site-packages (3.0.1)\nRequirement already satisfied: py4j==0.10.9 in ./piper_env/lib/python3.8/site-packages (from pyspark==3.0.1) (0.10.9)\nRequirement already satisfied: dataclasses in ./piper_env/lib/python3.8/site-packages (from nlu) (0.6)\nRequirement already satisfied: pyarrow>=0.16.0 in ./piper_env/lib/python3.8/site-packages (from nlu) (4.0.1)\nRequirement already satisfied: spark-nlp<3.1.0,>=3.0.0 in ./piper_env/lib/python3.8/site-packages (from nlu) (3.0.3)\nRequirement already satisfied: numpy in ./piper_env/lib/python3.8/site-packages (from nlu) (1.20.3)\nRequirement already satisfied: pandas in ./piper_env/lib/python3.8/site-packages (from nlu) (1.2.4)\nRequirement already satisfied: pytz>=2017.3 in ./piper_env/lib/python3.8/site-packages (from pandas->nlu) (2021.1)\nRequirement already satisfied: python-dateutil>=2.7.3 in ./piper_env/lib/python3.8/site-packages (from pandas->nlu) (2.8.1)\nRequirement already satisfied: six>=1.5 in ./piper_env/lib/python3.8/site-packages (from python-dateutil>=2.7.3->pandas->nlu) (1.16.0)\n"
     ]
    }
   ],
   "source": [
    "! pip install nlu pyspark==3.0.1\n",
    "\n",
    "import nlu"
   ]
  },
  {
   "cell_type": "code",
   "execution_count": 2,
   "metadata": {},
   "outputs": [
    {
     "output_type": "stream",
     "name": "stdout",
     "text": [
      "classifierdl_use_emotion download started this may take some time.\n",
      "Approximate size to download 21.3 MB\n",
      "[OK!]\n",
      "tfhub_use download started this may take some time.\n",
      "Approximate size to download 923.7 MB\n",
      "[OK!]\n",
      "sentence_detector_dl download started this may take some time.\n",
      "Approximate size to download 354.6 KB\n",
      "[OK!]\n"
     ]
    },
    {
     "output_type": "execute_result",
     "data": {
      "text/plain": [
       "                text                       sentence_embedding_tfhub_use  \\\n",
       "0  wow that was easy  [[-0.01886986754834652, 0.028681324794888496, ...   \n",
       "\n",
       "      emotion emotion_confidence_confidence             sentence  \\\n",
       "0  [surprise]                   [0.9995851]  [wow that was easy]   \n",
       "\n",
       "            document  \n",
       "0  wow that was easy  "
      ],
      "text/html": "<div>\n<style scoped>\n    .dataframe tbody tr th:only-of-type {\n        vertical-align: middle;\n    }\n\n    .dataframe tbody tr th {\n        vertical-align: top;\n    }\n\n    .dataframe thead th {\n        text-align: right;\n    }\n</style>\n<table border=\"1\" class=\"dataframe\">\n  <thead>\n    <tr style=\"text-align: right;\">\n      <th></th>\n      <th>text</th>\n      <th>sentence_embedding_tfhub_use</th>\n      <th>emotion</th>\n      <th>emotion_confidence_confidence</th>\n      <th>sentence</th>\n      <th>document</th>\n    </tr>\n  </thead>\n  <tbody>\n    <tr>\n      <th>0</th>\n      <td>wow that was easy</td>\n      <td>[[-0.01886986754834652, 0.028681324794888496, ...</td>\n      <td>[surprise]</td>\n      <td>[0.9995851]</td>\n      <td>[wow that was easy]</td>\n      <td>wow that was easy</td>\n    </tr>\n  </tbody>\n</table>\n</div>"
     },
     "metadata": {},
     "execution_count": 2
    }
   ],
   "source": [
    "nlu.load('emotion').predict('wow that was easy')"
   ]
  },
  {
   "cell_type": "code",
   "execution_count": 3,
   "metadata": {},
   "outputs": [
    {
     "output_type": "stream",
     "name": "stdout",
     "text": [
      "analyze_sentiment download started this may take some time.\n",
      "Approx size to download 4.9 MB\n",
      "[OK!]\n"
     ]
    },
    {
     "output_type": "execute_result",
     "data": {
      "text/plain": [
       "                             text                                   spell  \\\n",
       "0  How does this witchcraft work?  [How, does, this, witchcraft, work, ?]   \n",
       "\n",
       "    sentiment sentiment_confidence                                   token  \\\n",
       "0  [negative]             [0.7054]  [How, does, this, witchcraft, work, ?]   \n",
       "\n",
       "                           sentence                        document  \n",
       "0  [How does this witchcraft work?]  How does this witchcraft work?  "
      ],
      "text/html": "<div>\n<style scoped>\n    .dataframe tbody tr th:only-of-type {\n        vertical-align: middle;\n    }\n\n    .dataframe tbody tr th {\n        vertical-align: top;\n    }\n\n    .dataframe thead th {\n        text-align: right;\n    }\n</style>\n<table border=\"1\" class=\"dataframe\">\n  <thead>\n    <tr style=\"text-align: right;\">\n      <th></th>\n      <th>text</th>\n      <th>spell</th>\n      <th>sentiment</th>\n      <th>sentiment_confidence</th>\n      <th>token</th>\n      <th>sentence</th>\n      <th>document</th>\n    </tr>\n  </thead>\n  <tbody>\n    <tr>\n      <th>0</th>\n      <td>How does this witchcraft work?</td>\n      <td>[How, does, this, witchcraft, work, ?]</td>\n      <td>[negative]</td>\n      <td>[0.7054]</td>\n      <td>[How, does, this, witchcraft, work, ?]</td>\n      <td>[How does this witchcraft work?]</td>\n      <td>How does this witchcraft work?</td>\n    </tr>\n  </tbody>\n</table>\n</div>"
     },
     "metadata": {},
     "execution_count": 3
    }
   ],
   "source": [
    "nlu.load('sentiment').predict('How does this witchcraft work?')"
   ]
  },
  {
   "cell_type": "code",
   "execution_count": 4,
   "metadata": {},
   "outputs": [
    {
     "output_type": "stream",
     "name": "stdout",
     "text": [
      "onto_recognize_entities_sm download started this may take some time.\n",
      "Approx size to download 160.1 MB\n",
      "[OK!]\n"
     ]
    },
    {
     "output_type": "execute_result",
     "data": {
      "text/plain": [
       "                                           text entities  \\\n",
       "0  Why is NLU is awesome? Because of the sauce!    [NLU]   \n",
       "\n",
       "                                  word_embedding_ner entities_class  \\\n",
       "0  [[0.18449999392032623, 0.5146099925041199, 0.6...          [ORG]   \n",
       "\n",
       "                                               token  \\\n",
       "0  [Why, is, NLU, is, awesome?, Because, of, the,...   \n",
       "\n",
       "                                          sentence  \\\n",
       "0  [Why is NLU is awesome?, Because of the sauce!]   \n",
       "\n",
       "                                       document  \n",
       "0  Why is NLU is awesome? Because of the sauce!  "
      ],
      "text/html": "<div>\n<style scoped>\n    .dataframe tbody tr th:only-of-type {\n        vertical-align: middle;\n    }\n\n    .dataframe tbody tr th {\n        vertical-align: top;\n    }\n\n    .dataframe thead th {\n        text-align: right;\n    }\n</style>\n<table border=\"1\" class=\"dataframe\">\n  <thead>\n    <tr style=\"text-align: right;\">\n      <th></th>\n      <th>text</th>\n      <th>entities</th>\n      <th>word_embedding_ner</th>\n      <th>entities_class</th>\n      <th>token</th>\n      <th>sentence</th>\n      <th>document</th>\n    </tr>\n  </thead>\n  <tbody>\n    <tr>\n      <th>0</th>\n      <td>Why is NLU is awesome? Because of the sauce!</td>\n      <td>[NLU]</td>\n      <td>[[0.18449999392032623, 0.5146099925041199, 0.6...</td>\n      <td>[ORG]</td>\n      <td>[Why, is, NLU, is, awesome?, Because, of, the,...</td>\n      <td>[Why is NLU is awesome?, Because of the sauce!]</td>\n      <td>Why is NLU is awesome? Because of the sauce!</td>\n    </tr>\n  </tbody>\n</table>\n</div>"
     },
     "metadata": {},
     "execution_count": 4
    }
   ],
   "source": [
    "nlu.load('ner').predict('Why is NLU is awesome? Because of the sauce!')"
   ]
  },
  {
   "cell_type": "code",
   "execution_count": 6,
   "metadata": {},
   "outputs": [
    {
     "output_type": "stream",
     "name": "stdout",
     "text": [
      "classifierdl_use_emotion download started this may take some time.\n",
      "Approximate size to download 21.3 MB\n",
      "[OK!]\n",
      "tfhub_use download started this may take some time.\n",
      "Approximate size to download 923.7 MB\n",
      "[OK!]\n",
      "sentence_detector_dl download started this may take some time.\n",
      "Approximate size to download 354.6 KB\n",
      "[OK!]\n"
     ]
    },
    {
     "output_type": "execute_result",
     "data": {
      "text/plain": [
       "                                                text  \\\n",
       "0  Angela Merkel from Germany and the American Do...   \n",
       "\n",
       "                        sentence_embedding_tfhub_use emotion  \\\n",
       "0  [[0.011623142287135124, 0.06146617233753204, -...  [fear]   \n",
       "\n",
       "  emotion_confidence_confidence  \\\n",
       "0                   [0.9872738]   \n",
       "\n",
       "                                            sentence  \\\n",
       "0  [Angela Merkel from Germany and the American D...   \n",
       "\n",
       "                                            document  \n",
       "0  Angela Merkel from Germany and the American Do...  "
      ],
      "text/html": "<div>\n<style scoped>\n    .dataframe tbody tr th:only-of-type {\n        vertical-align: middle;\n    }\n\n    .dataframe tbody tr th {\n        vertical-align: top;\n    }\n\n    .dataframe thead th {\n        text-align: right;\n    }\n</style>\n<table border=\"1\" class=\"dataframe\">\n  <thead>\n    <tr style=\"text-align: right;\">\n      <th></th>\n      <th>text</th>\n      <th>sentence_embedding_tfhub_use</th>\n      <th>emotion</th>\n      <th>emotion_confidence_confidence</th>\n      <th>sentence</th>\n      <th>document</th>\n    </tr>\n  </thead>\n  <tbody>\n    <tr>\n      <th>0</th>\n      <td>Angela Merkel from Germany and the American Do...</td>\n      <td>[[0.011623142287135124, 0.06146617233753204, -...</td>\n      <td>[fear]</td>\n      <td>[0.9872738]</td>\n      <td>[Angela Merkel from Germany and the American D...</td>\n      <td>Angela Merkel from Germany and the American Do...</td>\n    </tr>\n  </tbody>\n</table>\n</div>"
     },
     "metadata": {},
     "execution_count": 6
    }
   ],
   "source": [
    "nlu.load('emotion').predict('Angela Merkel from Germany and the American Donald Trump dont share many opinions')\n",
    "\n"
   ]
  },
  {
   "cell_type": "code",
   "execution_count": 7,
   "metadata": {},
   "outputs": [
    {
     "output_type": "stream",
     "name": "stdout",
     "text": [
      "pos_anc download started this may take some time.\n",
      "Approximate size to download 3.9 MB\n",
      "[OK!]\n",
      "sentence_detector_dl download started this may take some time.\n",
      "Approximate size to download 354.6 KB\n",
      "[OK!]\n"
     ]
    },
    {
     "output_type": "execute_result",
     "data": {
      "text/plain": [
       "                                                text  \\\n",
       "0  Part of speech assigns each token in a sentenc...   \n",
       "\n",
       "                                                 pos  \\\n",
       "0  [NN, IN, NN, NNS, DT, NN, IN, DT, NN, DT, JJ, NN]   \n",
       "\n",
       "                                               token  \\\n",
       "0  [Part, of, speech, assigns, each, token, in, a...   \n",
       "\n",
       "                                            sentence  \\\n",
       "0  [Part of speech assigns each token in a senten...   \n",
       "\n",
       "                                            document  \n",
       "0  Part of speech assigns each token in a sentenc...  "
      ],
      "text/html": "<div>\n<style scoped>\n    .dataframe tbody tr th:only-of-type {\n        vertical-align: middle;\n    }\n\n    .dataframe tbody tr th {\n        vertical-align: top;\n    }\n\n    .dataframe thead th {\n        text-align: right;\n    }\n</style>\n<table border=\"1\" class=\"dataframe\">\n  <thead>\n    <tr style=\"text-align: right;\">\n      <th></th>\n      <th>text</th>\n      <th>pos</th>\n      <th>token</th>\n      <th>sentence</th>\n      <th>document</th>\n    </tr>\n  </thead>\n  <tbody>\n    <tr>\n      <th>0</th>\n      <td>Part of speech assigns each token in a sentenc...</td>\n      <td>[NN, IN, NN, NNS, DT, NN, IN, DT, NN, DT, JJ, NN]</td>\n      <td>[Part, of, speech, assigns, each, token, in, a...</td>\n      <td>[Part of speech assigns each token in a senten...</td>\n      <td>Part of speech assigns each token in a sentenc...</td>\n    </tr>\n  </tbody>\n</table>\n</div>"
     },
     "metadata": {},
     "execution_count": 7
    }
   ],
   "source": [
    "nlu.load('pos').predict('Part of speech assigns each token in a sentence a grammatical label')\n"
   ]
  },
  {
   "cell_type": "code",
   "execution_count": null,
   "metadata": {},
   "outputs": [],
   "source": []
  }
 ]
}